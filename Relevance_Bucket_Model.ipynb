{
 "cells": [
  {
   "cell_type": "code",
   "execution_count": 1,
   "id": "3f439285",
   "metadata": {},
   "outputs": [],
   "source": [
    "import pandas as pd\n",
    "import numpy as np\n",
    "import matplotlib.pyplot as plt\n",
    "import nltk.corpus\n",
    "from nltk.corpus import stopwords\n",
    "from datetime import date, datetime\n",
    "import emoji\n",
    "import re\n",
    "import string\n",
    "from nltk.corpus import stopwords\n",
    "from nltk.stem import WordNetLemmatizer\n",
    "from nltk.tokenize import word_tokenize\n",
    "from nltk.stem import PorterStemmer\n",
    "import unidecode\n",
    "from sklearn.metrics import plot_confusion_matrix\n",
    "from sklearn.metrics import f1_score\n",
    "from sklearn.metrics import accuracy_score\n",
    "from sklearn.model_selection import train_test_split\n",
    "from sklearn.pipeline import Pipeline\n",
    "from sklearn.multiclass import OneVsRestClassifier\n",
    "from sklearn.feature_extraction.text import TfidfVectorizer\n",
    "from sklearn.feature_extraction.text import CountVectorizer\n",
    "from sklearn.naive_bayes import MultinomialNB\n",
    "from sklearn.svm import LinearSVC\n",
    "from sklearn.linear_model import LogisticRegression\n",
    "from sklearn.utils import resample\n",
    "from sklearn.metrics import precision_score, recall_score\n",
    "from sklearn.naive_bayes import BernoulliNB\n",
    "from sklearn.ensemble import RandomForestClassifier\n",
    "from sklearn.linear_model import Ridge\n",
    "from sklearn.compose import ColumnTransformer\n",
    "import warnings\n",
    "warnings.filterwarnings('ignore')"
   ]
  },
  {
   "cell_type": "markdown",
   "id": "7141e52f",
   "metadata": {},
   "source": [
    "### Load Data"
   ]
  },
  {
   "cell_type": "code",
   "execution_count": 2,
   "id": "ca78b586",
   "metadata": {},
   "outputs": [],
   "source": [
    "df = pd.read_csv(\"SentimentLabeled_10112022.csv\")"
   ]
  },
  {
   "cell_type": "code",
   "execution_count": 3,
   "id": "bcc09f13",
   "metadata": {},
   "outputs": [
    {
     "data": {
      "text/plain": [
       "Index(['date', 'text', 'userid_str', 'status_id_str', 'id', 'name', 'birth',\n",
       "       'term_partisanship', 'term_type', 'term_state', 'country', 'Bucket',\n",
       "       'SentimentScore', 'version'],\n",
       "      dtype='object')"
      ]
     },
     "execution_count": 3,
     "metadata": {},
     "output_type": "execute_result"
    }
   ],
   "source": [
    "df.columns"
   ]
  },
  {
   "cell_type": "code",
   "execution_count": 4,
   "id": "93b333fc",
   "metadata": {},
   "outputs": [],
   "source": [
    "#Select tweets about China only\n",
    "df = df[df['country']=='China']"
   ]
  },
  {
   "cell_type": "code",
   "execution_count": 5,
   "id": "3385ba38",
   "metadata": {},
   "outputs": [],
   "source": [
    "df = df[['text', 'id', 'Bucket', 'SentimentScore']]"
   ]
  },
  {
   "cell_type": "markdown",
   "id": "6a0b95ce",
   "metadata": {},
   "source": [
    "### Bucket Data Preprocessing"
   ]
  },
  {
   "cell_type": "code",
   "execution_count": 6,
   "id": "b6b63994",
   "metadata": {},
   "outputs": [
    {
     "data": {
      "text/plain": [
       "1         8812\n",
       "2 or 3    2053\n",
       "2          160\n",
       "1.0        122\n",
       "3           32\n",
       "2.0         10\n",
       "3.0          1\n",
       "Name: Bucket, dtype: int64"
      ]
     },
     "execution_count": 6,
     "metadata": {},
     "output_type": "execute_result"
    }
   ],
   "source": [
    "df['Bucket'].value_counts()"
   ]
  },
  {
   "cell_type": "code",
   "execution_count": 7,
   "id": "7d8fb8f8",
   "metadata": {},
   "outputs": [
    {
     "data": {
      "text/plain": [
       "1         8934\n",
       "2 or 3    2256\n",
       "NaN        934\n",
       "Name: Bucket, dtype: int64"
      ]
     },
     "execution_count": 7,
     "metadata": {},
     "output_type": "execute_result"
    }
   ],
   "source": [
    "def standardize_bucket(bucket):\n",
    "    if ((bucket == '1.0') | (bucket == '1')):\n",
    "        return '1'\n",
    "    elif ((bucket == '2') | (bucket == '3') | (bucket == '2.0') | (bucket == '3.0')):\n",
    "        return '2 or 3'\n",
    "    else:\n",
    "        return bucket\n",
    "    \n",
    "df['Bucket'] = df['Bucket'].apply(standardize_bucket)\n",
    "df['Bucket'].value_counts(dropna=False)"
   ]
  },
  {
   "cell_type": "code",
   "execution_count": 8,
   "id": "9d49d812",
   "metadata": {},
   "outputs": [],
   "source": [
    "#bucket data cleaning\n",
    "#Step 1: Remove tweets that are in both buckets\n",
    "#Step 2: Remove tweets without a bucket (null)\n",
    "#Step 3: Remove duplicates\n",
    "df_bucket_count = pd.DataFrame(df.groupby('id')['Bucket'].nunique())\n",
    "df_bucket_count.reset_index(inplace=True)\n",
    "df_bucket_count.columns = ['tweet_id', 'bucket_num']\n",
    "bucket_df = df.merge(df_bucket_count, left_on='id', right_on='tweet_id')\n",
    "#Remove tweets that are in more than one bucket or has null value for bucket\n",
    "bucket_df = bucket_df[bucket_df['bucket_num'] == 1]\n",
    "bucket_df = bucket_df[(bucket_df['Bucket'] == '1') | (bucket_df['Bucket'] == '2 or 3')]\n",
    "bucket_df = bucket_df.drop_duplicates(subset=['id']).reset_index(drop=True)\n",
    "bucket_df = bucket_df[['text', 'Bucket']]"
   ]
  },
  {
   "cell_type": "code",
   "execution_count": 9,
   "id": "6fc20641",
   "metadata": {},
   "outputs": [
    {
     "data": {
      "text/html": [
       "<div>\n",
       "<style scoped>\n",
       "    .dataframe tbody tr th:only-of-type {\n",
       "        vertical-align: middle;\n",
       "    }\n",
       "\n",
       "    .dataframe tbody tr th {\n",
       "        vertical-align: top;\n",
       "    }\n",
       "\n",
       "    .dataframe thead th {\n",
       "        text-align: right;\n",
       "    }\n",
       "</style>\n",
       "<table border=\"1\" class=\"dataframe\">\n",
       "  <thead>\n",
       "    <tr style=\"text-align: right;\">\n",
       "      <th></th>\n",
       "      <th>text</th>\n",
       "      <th>Bucket</th>\n",
       "    </tr>\n",
       "  </thead>\n",
       "  <tbody>\n",
       "    <tr>\n",
       "      <th>0</th>\n",
       "      <td>I commend all of law enforcement for the secur...</td>\n",
       "      <td>2 or 3</td>\n",
       "    </tr>\n",
       "    <tr>\n",
       "      <th>1</th>\n",
       "      <td>Socialist tyrant Maduro starves, tortures his ...</td>\n",
       "      <td>1</td>\n",
       "    </tr>\n",
       "    <tr>\n",
       "      <th>2</th>\n",
       "      <td>Russia, China, India, Pakistan, North Korea, I...</td>\n",
       "      <td>1</td>\n",
       "    </tr>\n",
       "  </tbody>\n",
       "</table>\n",
       "</div>"
      ],
      "text/plain": [
       "                                                text  Bucket\n",
       "0  I commend all of law enforcement for the secur...  2 or 3\n",
       "1  Socialist tyrant Maduro starves, tortures his ...       1\n",
       "2  Russia, China, India, Pakistan, North Korea, I...       1"
      ]
     },
     "execution_count": 9,
     "metadata": {},
     "output_type": "execute_result"
    }
   ],
   "source": [
    "bucket_df.head(3)"
   ]
  },
  {
   "cell_type": "code",
   "execution_count": 10,
   "id": "7d2e5695",
   "metadata": {},
   "outputs": [
    {
     "data": {
      "text/plain": [
       "1         8085\n",
       "2 or 3    2062\n",
       "Name: Bucket, dtype: int64"
      ]
     },
     "execution_count": 10,
     "metadata": {},
     "output_type": "execute_result"
    }
   ],
   "source": [
    "bucket_df['Bucket'].value_counts(dropna=False)"
   ]
  },
  {
   "cell_type": "markdown",
   "id": "44b74fc5",
   "metadata": {},
   "source": [
    "### Text Preprocessing"
   ]
  },
  {
   "cell_type": "code",
   "execution_count": 11,
   "id": "2b754b28",
   "metadata": {},
   "outputs": [],
   "source": [
    "def extract_symbols(df, col):\n",
    "    # extract @s\n",
    "    at_users = []\n",
    "    for row in range(len(df)):\n",
    "        matches = re.findall(r'@\\w*\\b', col[row])\n",
    "        if len(matches) == 0:\n",
    "            users = 'NaN'\n",
    "        else:\n",
    "            users = [user[1:] for user in matches]\n",
    "        at_users += [users]\n",
    "    \n",
    "    # extract #s\n",
    "    hashtags = []\n",
    "    for row in range(len(df)):\n",
    "        matches = re.findall(r'#\\w*\\b', col[row])\n",
    "        if len(matches) == 0:\n",
    "            tags = 'NaN'\n",
    "        tags = [tag[1:] for tag in matches ]\n",
    "        hashtags += [tags]\n",
    "    \n",
    "    # extract links\n",
    "    web_links = []\n",
    "    for row in range(len(df)):\n",
    "        matches = re.findall(r'http://\\S+|https://\\S+', col[row])\n",
    "        if len(matches) == 0:\n",
    "            links = 'NaN'\n",
    "        links = [link for link in matches ]\n",
    "        web_links += [links]\n",
    "        \n",
    "    # extract emojis\n",
    "    emoji_list = []\n",
    "    for row in range(len(df)):\n",
    "        matches = []\n",
    "        temp = list(col[row])\n",
    "        for ch in temp:\n",
    "            if (emoji.is_emoji(ch)):\n",
    "                matches += [ch]\n",
    "        if len(matches) == 0:\n",
    "             emoji_list += [\"NaN\"]\n",
    "        else:\n",
    "            emoji_list += [matches]\n",
    "    \n",
    "    return at_users, hashtags, web_links, emoji_list"
   ]
  },
  {
   "cell_type": "code",
   "execution_count": 12,
   "id": "2fa6a4df",
   "metadata": {},
   "outputs": [],
   "source": [
    "#Perform label extraction on buckets\n",
    "text = bucket_df['text'].astype('string').fillna('NA')\n",
    "user, hashtags, web_links, emoji_list = extract_symbols(bucket_df, text)\n",
    "# store in new columns\n",
    "bucket_df[\"com_at_users\"] = user\n",
    "bucket_df[\"com_hashtags\"] = hashtags\n",
    "bucket_df[\"com_web_links\"] = web_links\n",
    "bucket_df[\"com_emoji_list\"] = emoji_list"
   ]
  },
  {
   "cell_type": "code",
   "execution_count": 13,
   "id": "968e7661",
   "metadata": {},
   "outputs": [],
   "source": [
    "original_stopwords = stopwords.words('english')\n",
    "additional_stopwords = ['none']\n",
    "original_stopwords.extend(additional_stopwords)\n",
    "stopwords = set(original_stopwords)\n",
    "\n",
    "def clean_text(text):\n",
    "    if type(text) == np.float:\n",
    "        return \"\"\n",
    "    temp = text.lower() # to lower case\n",
    "    temp = re.sub(\"'\", \"\", temp) # to avoid removing contractions in english\n",
    "    temp = re.sub(\"@[A-Za-z0-9_]+\",\"\", temp) # remove @s\n",
    "    temp = re.sub(\"#[A-Za-z0-9_]+\",\"\", temp) # remove hashtags\n",
    "    temp = re.sub(r'http\\S+', '', temp) # remove links\n",
    "    temp = re.sub(r\"www.\\S+\", \"\", temp) # remove links\n",
    "    temp = re.sub(r'\\n|[^a-zA-Z]', ' ', temp) # remove punctuation\n",
    "    temp = temp.replace(\"\\n\", \" \").split()\n",
    "    temp = [w for w in temp if not w in stopwords] # remove stopwords\n",
    "    temp = [w for w in temp if not w.isdigit()] # remove numbers\n",
    "    temp = [unidecode.unidecode(w) for w in temp] # turn non-enlish letters to english letters\n",
    "    temp = \" \".join(word for word in temp)\n",
    "    return temp\n",
    "\n",
    "# lemmatization\n",
    "lemmatizer = WordNetLemmatizer()\n",
    "def lemmatize_words(text):\n",
    "    return \" \".join([lemmatizer.lemmatize(word) for word in text.split()])"
   ]
  },
  {
   "cell_type": "code",
   "execution_count": 14,
   "id": "b0bdf2a3",
   "metadata": {},
   "outputs": [],
   "source": [
    "bucket_df[\"text_cleaned\"] = [clean_text(t) for t in bucket_df[\"text\"]]\n",
    "bucket_df['lemmatized_text'] = bucket_df['text'].apply(lambda text: lemmatize_words(text))\n",
    "#tokenization\n",
    "bucket_df['tokenized_text'] = bucket_df['lemmatized_text'].apply(word_tokenize) \n",
    "# stemming\n",
    "ps = PorterStemmer()\n",
    "bucket_df['stemmed_text'] = bucket_df['text_cleaned'].apply(lambda x: \" \".join([ps.stem(word) for word in x.split()]))"
   ]
  },
  {
   "cell_type": "markdown",
   "id": "3e4230f7",
   "metadata": {},
   "source": [
    "### Bucket Prediction"
   ]
  },
  {
   "cell_type": "code",
   "execution_count": 15,
   "id": "4cd3ae13",
   "metadata": {},
   "outputs": [],
   "source": [
    "from nltk.corpus import stopwords"
   ]
  },
  {
   "cell_type": "code",
   "execution_count": 16,
   "id": "ed64935c",
   "metadata": {},
   "outputs": [
    {
     "data": {
      "text/plain": [
       "1         8085\n",
       "2 or 3    2062\n",
       "Name: Bucket, dtype: int64"
      ]
     },
     "execution_count": 16,
     "metadata": {},
     "output_type": "execute_result"
    }
   ],
   "source": [
    "stop_words = set(stopwords.words('english'))\n",
    "bucket_df = bucket_df[['text_cleaned', 'Bucket']]\n",
    "bucket_df['Bucket'].value_counts()"
   ]
  },
  {
   "cell_type": "markdown",
   "id": "b3604bc7",
   "metadata": {},
   "source": [
    "#### Balance bucket dataset"
   ]
  },
  {
   "cell_type": "code",
   "execution_count": 17,
   "id": "8a64abcd",
   "metadata": {},
   "outputs": [],
   "source": [
    "bucket_df_1 = bucket_df[bucket_df.Bucket=='1']\n",
    "bucket_df_2_3 = bucket_df[bucket_df.Bucket=='2 or 3']\n",
    "num_sample = 2000"
   ]
  },
  {
   "cell_type": "code",
   "execution_count": 18,
   "id": "97f1110d",
   "metadata": {},
   "outputs": [],
   "source": [
    "sample_size = num_sample"
   ]
  },
  {
   "cell_type": "code",
   "execution_count": 19,
   "id": "be3b4fe0",
   "metadata": {},
   "outputs": [
    {
     "name": "stdout",
     "output_type": "stream",
     "text": [
      "(4000, 2)\n"
     ]
    }
   ],
   "source": [
    "b1_resample = resample(bucket_df_1, replace=False, n_samples=num_sample, random_state=123)\n",
    "b2_3_resample = resample(bucket_df_2_3, replace=False, n_samples=num_sample, random_state=123)\n",
    "b_df_balanced = pd.concat([b1_resample, b2_3_resample])\n",
    "print(b_df_balanced.shape)"
   ]
  },
  {
   "cell_type": "code",
   "execution_count": 20,
   "id": "ea43078b",
   "metadata": {},
   "outputs": [
    {
     "name": "stdout",
     "output_type": "stream",
     "text": [
      "(3200, 1)\n",
      "(800, 1)\n",
      "(3200, 1)\n",
      "(800, 1)\n"
     ]
    }
   ],
   "source": [
    "categories = ['Bucket']\n",
    "train, test = train_test_split(b_df_balanced, random_state=42, test_size=0.2, shuffle=True)\n",
    "X_train = train[['text_cleaned']]\n",
    "X_test = test[['text_cleaned']]\n",
    "Y_train = train[['Bucket']]\n",
    "Y_test = test[['Bucket']]\n",
    "print(X_train.shape)\n",
    "print(X_test.shape)\n",
    "print(Y_train.shape)\n",
    "print(Y_test.shape)"
   ]
  },
  {
   "cell_type": "code",
   "execution_count": 21,
   "id": "15412c85",
   "metadata": {},
   "outputs": [],
   "source": [
    "# wrap in ColumnTransformer\n",
    "preprocessor = ColumnTransformer(\n",
    "    transformers=[\n",
    "        (\"tf\", CountVectorizer(stop_words=stop_words), 'text_cleaned'),\n",
    "        (\"tfidf\", TfidfVectorizer(stop_words=stop_words), 'text_cleaned')]\n",
    ")"
   ]
  },
  {
   "cell_type": "code",
   "execution_count": 22,
   "id": "1572d795",
   "metadata": {},
   "outputs": [],
   "source": [
    "random_state_value = 2\n",
    "model_lst = [LinearSVC(random_state=random_state_value), #Linear Support Vector Classification\n",
    "             BernoulliNB(fit_prior=True, class_prior=None), #Naive Bayes\n",
    "             RandomForestClassifier(random_state=random_state_value), #Random Forest\n",
    "             LogisticRegression(solver='sag', random_state=random_state_value), #Logistic Regression\n",
    "             LogisticRegression(C=1, penalty='l1', solver='liblinear', random_state=random_state_value), #Lasso\n",
    "             Ridge(alpha=1.0, random_state=random_state_value) #Ridge\n",
    "            ]\n",
    "\n",
    "model_name_lst = ['Linear SVC', 'Bernoulli Naive Bayes', 'Random Forest Classifier', 'Logistic Regression', 'Lasso', 'Ridge']"
   ]
  },
  {
   "cell_type": "code",
   "execution_count": 23,
   "id": "cc86adeb",
   "metadata": {},
   "outputs": [],
   "source": [
    "round_number = 4"
   ]
  },
  {
   "cell_type": "code",
   "execution_count": 24,
   "id": "7e973c84",
   "metadata": {},
   "outputs": [],
   "source": [
    "def model_result(model, model_name):\n",
    "    pipeline = Pipeline([\n",
    "                ('preprocessor', preprocessor),\n",
    "                ('clf', OneVsRestClassifier(model, n_jobs=1)),\n",
    "            ])\n",
    "\n",
    "    # train the model using X_dtm & y\n",
    "    pipeline.fit(X_train, Y_train)\n",
    "    # compute the testing accuracy\n",
    "    prediction = pipeline.predict(pd.DataFrame(X_test))\n",
    "    print('The model name is ' + model_name + '.')\n",
    "    print('Test accuracy is {}'.format(round(accuracy_score(Y_test, prediction), round_number)))\n",
    "    # compute the f1 score\n",
    "    f1 = round(f1_score(np.array(Y_test), prediction, pos_label='1'), round_number)\n",
    "    print('F1 score is {}'.format(f1))\n",
    "    # compute the precision score\n",
    "    precision = round(precision_score(np.array(Y_test), prediction, pos_label='1', average='binary'), round_number)\n",
    "    print('Precision score is {}'.format(precision))\n",
    "    # compute the precision score\n",
    "    recall = round(recall_score(np.array(Y_test), prediction, pos_label='1', average='binary'), round_number)\n",
    "    print('Recall score is {}'.format(recall))\n",
    "    plot_confusion_matrix(pipeline, X_test, Y_test)\n",
    "    plt.show()\n",
    "    plot_confusion_matrix(pipeline, X_test, Y_test, normalize='true')\n",
    "    plt.show()"
   ]
  },
  {
   "cell_type": "markdown",
   "id": "98436f3c",
   "metadata": {},
   "source": [
    "### Linear Support Vector Classification"
   ]
  },
  {
   "cell_type": "code",
   "execution_count": 25,
   "id": "d9b809cf",
   "metadata": {},
   "outputs": [],
   "source": [
    "svc, svc_name = model_lst[0], model_name_lst[0]"
   ]
  },
  {
   "cell_type": "code",
   "execution_count": 26,
   "id": "1ac6d51a",
   "metadata": {},
   "outputs": [
    {
     "name": "stdout",
     "output_type": "stream",
     "text": [
      "The model name is Linear SVC.\n",
      "Test accuracy is 0.745\n",
      "F1 score is 0.7566\n",
      "Precision score is 0.762\n",
      "Recall score is 0.7512\n"
     ]
    },
    {
     "data": {
      "image/png": "[encoded data removed]",
      "text/plain": [
       "<Figure size 432x288 with 2 Axes>"
      ]
     },
     "metadata": {
      "needs_background": "light"
     },
     "output_type": "display_data"
    },
    {
     "data": {
      "image/png": "[encoded data removed]",
      "text/plain": [
       "<Figure size 432x288 with 2 Axes>"
      ]
     },
     "metadata": {
      "needs_background": "light"
     },
     "output_type": "display_data"
    }
   ],
   "source": [
    "model_result(svc, svc_name)"
   ]
  },
  {
   "cell_type": "markdown",
   "id": "1ccec8e3",
   "metadata": {},
   "source": [
    "### Bernoulli Naive Bayes"
   ]
  },
  {
   "cell_type": "code",
   "execution_count": 27,
   "id": "d4ae0963",
   "metadata": {},
   "outputs": [],
   "source": [
    "nb, nb_name = model_lst[1], model_name_lst[1]"
   ]
  },
  {
   "cell_type": "code",
   "execution_count": 28,
   "id": "49c37ac2",
   "metadata": {},
   "outputs": [
    {
     "name": "stdout",
     "output_type": "stream",
     "text": [
      "The model name is Bernoulli Naive Bayes.\n",
      "Test accuracy is 0.8012\n",
      "F1 score is 0.8082\n",
      "Precision score is 0.8231\n",
      "Recall score is 0.7938\n"
     ]
    },
    {
     "data": {
      "image/png": "[encoded data removed]",
      "text/plain": [
       "<Figure size 432x288 with 2 Axes>"
      ]
     },
     "metadata": {
      "needs_background": "light"
     },
     "output_type": "display_data"
    },
    {
     "data": {
      "image/png": "[encoded data removed]",
      "text/plain": [
       "<Figure size 432x288 with 2 Axes>"
      ]
     },
     "metadata": {
      "needs_background": "light"
     },
     "output_type": "display_data"
    }
   ],
   "source": [
    "model_result(nb, nb_name)"
   ]
  },
  {
   "cell_type": "markdown",
   "id": "b0d7bcc8",
   "metadata": {},
   "source": [
    "### Random Forest Classifier"
   ]
  },
  {
   "cell_type": "code",
   "execution_count": 29,
   "id": "b61ede7c",
   "metadata": {},
   "outputs": [],
   "source": [
    "rfc, rfc_name = model_lst[2], model_name_lst[2]"
   ]
  },
  {
   "cell_type": "code",
   "execution_count": 30,
   "id": "166ade4f",
   "metadata": {},
   "outputs": [
    {
     "name": "stdout",
     "output_type": "stream",
     "text": [
      "The model name is Random Forest Classifier.\n",
      "Test accuracy is 0.7938\n",
      "F1 score is 0.8061\n",
      "Precision score is 0.7995\n",
      "Recall score is 0.8128\n"
     ]
    },
    {
     "data": {
      "image/png": "[encoded data removed]",
      "text/plain": [
       "<Figure size 432x288 with 2 Axes>"
      ]
     },
     "metadata": {
      "needs_background": "light"
     },
     "output_type": "display_data"
    },
    {
     "data": {
      "image/png": "[encoded data removed]",
      "text/plain": [
       "<Figure size 432x288 with 2 Axes>"
      ]
     },
     "metadata": {
      "needs_background": "light"
     },
     "output_type": "display_data"
    }
   ],
   "source": [
    "model_result(rfc, rfc_name)"
   ]
  },
  {
   "cell_type": "markdown",
   "id": "6327cc44",
   "metadata": {},
   "source": [
    "### Logistic Regression"
   ]
  },
  {
   "cell_type": "code",
   "execution_count": 31,
   "id": "04d37d6f",
   "metadata": {},
   "outputs": [],
   "source": [
    "log, log_name = model_lst[3], model_name_lst[3]"
   ]
  },
  {
   "cell_type": "code",
   "execution_count": 32,
   "id": "69ff5841",
   "metadata": {},
   "outputs": [
    {
     "name": "stdout",
     "output_type": "stream",
     "text": [
      "The model name is Logistic Regression.\n",
      "Test accuracy is 0.7762\n",
      "F1 score is 0.7872\n",
      "Precision score is 0.79\n",
      "Recall score is 0.7844\n"
     ]
    },
    {
     "data": {
      "image/png": "[encoded data removed]",
      "text/plain": [
       "<Figure size 432x288 with 2 Axes>"
      ]
     },
     "metadata": {
      "needs_background": "light"
     },
     "output_type": "display_data"
    },
    {
     "data": {
      "image/png": "[encoded data removed]",
      "text/plain": [
       "<Figure size 432x288 with 2 Axes>"
      ]
     },
     "metadata": {
      "needs_background": "light"
     },
     "output_type": "display_data"
    }
   ],
   "source": [
    "model_result(log, log_name)"
   ]
  },
  {
   "cell_type": "markdown",
   "id": "bf998ee9",
   "metadata": {},
   "source": [
    "### Lasso"
   ]
  },
  {
   "cell_type": "code",
   "execution_count": 33,
   "id": "757a522a",
   "metadata": {},
   "outputs": [],
   "source": [
    "lasso, lasso_name = model_lst[4], model_name_lst[4]"
   ]
  },
  {
   "cell_type": "code",
   "execution_count": 34,
   "id": "457f41f1",
   "metadata": {},
   "outputs": [
    {
     "name": "stdout",
     "output_type": "stream",
     "text": [
      "The model name is Lasso.\n",
      "Test accuracy is 0.78\n",
      "F1 score is 0.7838\n",
      "Precision score is 0.8138\n",
      "Recall score is 0.7559\n"
     ]
    },
    {
     "data": {
      "image/png": "[encoded data removed]",
      "text/plain": [
       "<Figure size 432x288 with 2 Axes>"
      ]
     },
     "metadata": {
      "needs_background": "light"
     },
     "output_type": "display_data"
    },
    {
     "data": {
      "image/png": "[encoded data removed]",
      "text/plain": [
       "<Figure size 432x288 with 2 Axes>"
      ]
     },
     "metadata": {
      "needs_background": "light"
     },
     "output_type": "display_data"
    }
   ],
   "source": [
    "model_result(lasso, lasso_name)"
   ]
  },
  {
   "cell_type": "markdown",
   "id": "e2c2ad37",
   "metadata": {},
   "source": [
    "### Ridge"
   ]
  },
  {
   "cell_type": "code",
   "execution_count": 35,
   "id": "3b21e5d1",
   "metadata": {},
   "outputs": [],
   "source": [
    "ridge, ridge_name = model_lst[5], model_name_lst[5]"
   ]
  },
  {
   "cell_type": "code",
   "execution_count": 36,
   "id": "ed65a18e",
   "metadata": {},
   "outputs": [
    {
     "name": "stdout",
     "output_type": "stream",
     "text": [
      "The model name is Ridge.\n",
      "Test accuracy is 0.7375\n",
      "F1 score is 0.747\n",
      "Precision score is 0.7598\n",
      "Recall score is 0.7346\n"
     ]
    },
    {
     "data": {
      "image/png": "[encoded data removed]",
      "text/plain": [
       "<Figure size 432x288 with 2 Axes>"
      ]
     },
     "metadata": {
      "needs_background": "light"
     },
     "output_type": "display_data"
    },
    {
     "data": {
      "image/png": "[encoded data removed]",
      "text/plain": [
       "<Figure size 432x288 with 2 Axes>"
      ]
     },
     "metadata": {
      "needs_background": "light"
     },
     "output_type": "display_data"
    }
   ],
   "source": [
    "model_result(ridge, ridge_name)"
   ]
  },
  {
   "cell_type": "markdown",
   "id": "0b2db1f6",
   "metadata": {},
   "source": [
    "### Grid Search"
   ]
  },
  {
   "cell_type": "code",
   "execution_count": 37,
   "id": "8a869400",
   "metadata": {},
   "outputs": [],
   "source": [
    "from sklearn.model_selection import GridSearchCV"
   ]
  },
  {
   "cell_type": "code",
   "execution_count": 38,
   "id": "9d366f77",
   "metadata": {},
   "outputs": [
    {
     "name": "stdout",
     "output_type": "stream",
     "text": [
      "Best parameter (CV score=0.800):\n",
      "{'clf__alpha': 1, 'clf__binarize': 0.7, 'clf__fit_prior': True}\n"
     ]
    }
   ],
   "source": [
    "B_NB_pipeline = Pipeline([\n",
    "                ('preprocessor', preprocessor),\n",
    "                ('clf', BernoulliNB(class_prior=None)),\n",
    "            ])\n",
    "\n",
    "param_grid = {\n",
    "    \"clf__alpha\": [0, 1],\n",
    "    \"clf__binarize\": [0.0, 0.1, 0.2, 0.3, 0.4, 0.5, 0.6, 0.7, 0.8, 0.9, 1],\n",
    "    \"clf__fit_prior\": [True, False]\n",
    "}\n",
    "\n",
    "search = GridSearchCV(B_NB_pipeline, param_grid, n_jobs=2)\n",
    "# train the model using X_dtm & y\n",
    "search.fit(X_train, Y_train)\n",
    "print(\"Best parameter (CV score=%0.3f):\" % search.best_score_)\n",
    "print(search.best_params_)"
   ]
  },
  {
   "cell_type": "code",
   "execution_count": 39,
   "id": "676175c6",
   "metadata": {},
   "outputs": [
    {
     "name": "stdout",
     "output_type": "stream",
     "text": [
      "Test accuracy is 0.8\n",
      "F1 score is 0.8048780487804877\n",
      "Precision score is 0.8291457286432161\n",
      "Recall score is 0.7819905213270142\n"
     ]
    },
    {
     "data": {
      "image/png": "[encoded data removed]",
      "text/plain": [
       "<Figure size 432x288 with 2 Axes>"
      ]
     },
     "metadata": {
      "needs_background": "light"
     },
     "output_type": "display_data"
    },
    {
     "data": {
      "image/png": "[encoded data removed]",
      "text/plain": [
       "<Figure size 432x288 with 2 Axes>"
      ]
     },
     "metadata": {
      "needs_background": "light"
     },
     "output_type": "display_data"
    }
   ],
   "source": [
    "B_NB_pipeline = Pipeline([\n",
    "                ('preprocessor', preprocessor),\n",
    "                ('clf', OneVsRestClassifier(BernoulliNB(alpha=1, binarize=0.8, fit_prior=True, class_prior=None))),\n",
    "            ])\n",
    "\n",
    "# train the model using X_dtm & y\n",
    "B_NB_pipeline.fit(X_train, Y_train)\n",
    "# compute the testing accuracy\n",
    "prediction = B_NB_pipeline.predict(pd.DataFrame(X_test))\n",
    "print('Test accuracy is {}'.format(accuracy_score(Y_test, prediction)))\n",
    "# compute the f1 score\n",
    "f1 = f1_score(np.array(Y_test), prediction, pos_label='1')\n",
    "print('F1 score is {}'.format(f1))\n",
    "# compute the precision score\n",
    "precision = precision_score(np.array(Y_test), prediction, pos_label='1', average='binary')\n",
    "print('Precision score is {}'.format(precision))\n",
    "# compute the precision score\n",
    "recall = recall_score(np.array(Y_test), prediction, pos_label='1', average='binary')\n",
    "print('Recall score is {}'.format(recall))\n",
    "plot_confusion_matrix(B_NB_pipeline, X_test, Y_test)\n",
    "plt.show()\n",
    "plot_confusion_matrix(B_NB_pipeline, X_test, Y_test, normalize='true')\n",
    "plt.show()"
   ]
  },
  {
   "cell_type": "code",
   "execution_count": null,
   "id": "b28bad69",
   "metadata": {},
   "outputs": [],
   "source": []
  },
  {
   "cell_type": "code",
   "execution_count": null,
   "id": "4bd1af76",
   "metadata": {},
   "outputs": [],
   "source": []
  }
 ],
 "metadata": {
  "kernelspec": {
   "display_name": "Python 3",
   "language": "python",
   "name": "python3"
  },
  "language_info": {
   "codemirror_mode": {
    "name": "ipython",
    "version": 3
   },
   "file_extension": ".py",
   "mimetype": "text/x-python",
   "name": "python",
   "nbconvert_exporter": "python",
   "pygments_lexer": "ipython3",
   "version": "3.8.8"
  }
 },
 "nbformat": 4,
 "nbformat_minor": 5
}
